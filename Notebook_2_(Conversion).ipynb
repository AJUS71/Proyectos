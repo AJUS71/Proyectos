{
  "nbformat": 4,
  "nbformat_minor": 0,
  "metadata": {
    "colab": {
      "provenance": [],
      "authorship_tag": "ABX9TyO2ySah45eLTNDJ3xfp5u+Y",
      "include_colab_link": true
    },
    "kernelspec": {
      "name": "python3",
      "display_name": "Python 3"
    },
    "language_info": {
      "name": "python"
    }
  },
  "cells": [
    {
      "cell_type": "markdown",
      "metadata": {
        "id": "view-in-github",
        "colab_type": "text"
      },
      "source": [
        "<a href=\"https://colab.research.google.com/github/AJUS71/Proyectos/blob/main/Notebook_2_(Conversion).ipynb\" target=\"_parent\"><img src=\"https://colab.research.google.com/assets/colab-badge.svg\" alt=\"Open In Colab\"/></a>"
      ]
    },
    {
      "cell_type": "code",
      "execution_count": null,
      "metadata": {
        "colab": {
          "base_uri": "https://localhost:8080/"
        },
        "id": "MsaC82RvY4cs",
        "outputId": "e0a2d3d5-57c1-4a3e-f4eb-865e40a05142"
      },
      "outputs": [
        {
          "output_type": "stream",
          "name": "stdout",
          "text": [
            "100.5 grados Fahrenheit es 38.06 grados centigrados \n"
          ]
        }
      ],
      "source": [
        "cent=round(5/9*(100.5-32),2)\n",
        "print(f\"100.5 grados Fahrenheit es {cent} grados centigrados \")"
      ]
    }
  ]
}